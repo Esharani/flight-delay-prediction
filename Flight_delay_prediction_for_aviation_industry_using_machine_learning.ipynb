{
  "nbformat": 4,
  "nbformat_minor": 0,
  "metadata": {
    "colab": {
      "provenance": [],
      "authorship_tag": "ABX9TyP/sfo+MwyybRQOn1NOLDH8",
      "include_colab_link": true
    },
    "kernelspec": {
      "name": "python3",
      "display_name": "Python 3"
    },
    "language_info": {
      "name": "python"
    }
  },
  "cells": [
    {
      "cell_type": "markdown",
      "metadata": {
        "id": "view-in-github",
        "colab_type": "text"
      },
      "source": [
        "<a href=\"https://colab.research.google.com/github/Esharani/flight-delay-prediction/blob/main/Flight_delay_prediction_for_aviation_industry_using_machine_learning.ipynb\" target=\"_parent\"><img src=\"https://colab.research.google.com/assets/colab-badge.svg\" alt=\"Open In Colab\"/></a>"
      ]
    },
    {
      "cell_type": "markdown",
      "source": [
        "**Importing the libraries**"
      ],
      "metadata": {
        "id": "gYYhAhJ2KvcT"
      }
    },
    {
      "cell_type": "code",
      "source": [
        "import pandas as pd\n",
        "import numpy as np\n",
        "import pickle\n",
        "import matplotlib.pyplot as plt\n",
        "%matplotlib inline\n",
        "import seaborn as sns\n",
        "import sklearn\n",
        "from sklearn.tree import DecisionTreeClassifier\n",
        "from sklearn.ensemble import GradientBoostingClassifier, RandomForestClassifier\n",
        "from sklearn.neighbors import KNeighborsClassifier\n",
        "from sklearn.model_selection import RandomizedSearchCV\n",
        "import imblearn\n",
        "from sklearn.model_selection import train_test_split\n",
        "from sklearn.preprocessing import StandardScaler\n",
        "from sklearn.metrics import accuracy_score, classification_report, confusion_matrix, f1_score"
      ],
      "metadata": {
        "id": "BOocmseALD4m"
      },
      "execution_count": null,
      "outputs": []
    },
    {
      "cell_type": "markdown",
      "source": [
        "**Read the dataset**"
      ],
      "metadata": {
        "id": "qr6VGEfcN_rB"
      }
    },
    {
      "cell_type": "code",
      "source": [
        "dataset=pd.read_csv('/flightdata.csv')\n",
        "dataset.head()"
      ],
      "metadata": {
        "colab": {
          "base_uri": "https://localhost:8080/",
          "height": 317
        },
        "id": "Y0F0DegqOG3Y",
        "outputId": "b644a834-e9a5-47ef-bb7f-dedf437cbe60"
      },
      "execution_count": null,
      "outputs": [
        {
          "output_type": "execute_result",
          "data": {
            "text/plain": [
              "   YEAR  QUARTER  MONTH  DAY_OF_MONTH  DAY_OF_WEEK UNIQUE_CARRIER TAIL_NUM  \\\n",
              "0  2016        1      1             1            5             DL   N836DN   \n",
              "1  2016        1      1             1            5             DL   N964DN   \n",
              "2  2016        1      1             1            5             DL   N813DN   \n",
              "3  2016        1      1             1            5             DL   N587NW   \n",
              "4  2016        1      1             1            5             DL   N836DN   \n",
              "\n",
              "   FL_NUM  ORIGIN_AIRPORT_ID ORIGIN  ...  CRS_ARR_TIME ARR_TIME  ARR_DELAY  \\\n",
              "0    1399              10397    ATL  ...          2143   2102.0      -41.0   \n",
              "1    1476              11433    DTW  ...          1435   1439.0        4.0   \n",
              "2    1597              10397    ATL  ...          1215   1142.0      -33.0   \n",
              "3    1768              14747    SEA  ...          1335   1345.0       10.0   \n",
              "4    1823              14747    SEA  ...           607    615.0        8.0   \n",
              "\n",
              "   ARR_DEL15  CANCELLED  DIVERTED  CRS_ELAPSED_TIME  ACTUAL_ELAPSED_TIME  \\\n",
              "0        0.0        0.0       0.0             338.0                295.0   \n",
              "1        0.0        0.0       0.0             110.0                115.0   \n",
              "2        0.0        0.0       0.0             335.0                300.0   \n",
              "3        0.0        0.0       0.0             196.0                205.0   \n",
              "4        0.0        0.0       0.0             247.0                259.0   \n",
              "\n",
              "   DISTANCE  Unnamed: 25  \n",
              "0    2182.0          NaN  \n",
              "1     528.0          NaN  \n",
              "2    2182.0          NaN  \n",
              "3    1399.0          NaN  \n",
              "4    1927.0          NaN  \n",
              "\n",
              "[5 rows x 26 columns]"
            ],
            "text/html": [
              "\n",
              "  <div id=\"df-8d4910b3-5fa5-4ef7-a180-a2848b131ca1\">\n",
              "    <div class=\"colab-df-container\">\n",
              "      <div>\n",
              "<style scoped>\n",
              "    .dataframe tbody tr th:only-of-type {\n",
              "        vertical-align: middle;\n",
              "    }\n",
              "\n",
              "    .dataframe tbody tr th {\n",
              "        vertical-align: top;\n",
              "    }\n",
              "\n",
              "    .dataframe thead th {\n",
              "        text-align: right;\n",
              "    }\n",
              "</style>\n",
              "<table border=\"1\" class=\"dataframe\">\n",
              "  <thead>\n",
              "    <tr style=\"text-align: right;\">\n",
              "      <th></th>\n",
              "      <th>YEAR</th>\n",
              "      <th>QUARTER</th>\n",
              "      <th>MONTH</th>\n",
              "      <th>DAY_OF_MONTH</th>\n",
              "      <th>DAY_OF_WEEK</th>\n",
              "      <th>UNIQUE_CARRIER</th>\n",
              "      <th>TAIL_NUM</th>\n",
              "      <th>FL_NUM</th>\n",
              "      <th>ORIGIN_AIRPORT_ID</th>\n",
              "      <th>ORIGIN</th>\n",
              "      <th>...</th>\n",
              "      <th>CRS_ARR_TIME</th>\n",
              "      <th>ARR_TIME</th>\n",
              "      <th>ARR_DELAY</th>\n",
              "      <th>ARR_DEL15</th>\n",
              "      <th>CANCELLED</th>\n",
              "      <th>DIVERTED</th>\n",
              "      <th>CRS_ELAPSED_TIME</th>\n",
              "      <th>ACTUAL_ELAPSED_TIME</th>\n",
              "      <th>DISTANCE</th>\n",
              "      <th>Unnamed: 25</th>\n",
              "    </tr>\n",
              "  </thead>\n",
              "  <tbody>\n",
              "    <tr>\n",
              "      <th>0</th>\n",
              "      <td>2016</td>\n",
              "      <td>1</td>\n",
              "      <td>1</td>\n",
              "      <td>1</td>\n",
              "      <td>5</td>\n",
              "      <td>DL</td>\n",
              "      <td>N836DN</td>\n",
              "      <td>1399</td>\n",
              "      <td>10397</td>\n",
              "      <td>ATL</td>\n",
              "      <td>...</td>\n",
              "      <td>2143</td>\n",
              "      <td>2102.0</td>\n",
              "      <td>-41.0</td>\n",
              "      <td>0.0</td>\n",
              "      <td>0.0</td>\n",
              "      <td>0.0</td>\n",
              "      <td>338.0</td>\n",
              "      <td>295.0</td>\n",
              "      <td>2182.0</td>\n",
              "      <td>NaN</td>\n",
              "    </tr>\n",
              "    <tr>\n",
              "      <th>1</th>\n",
              "      <td>2016</td>\n",
              "      <td>1</td>\n",
              "      <td>1</td>\n",
              "      <td>1</td>\n",
              "      <td>5</td>\n",
              "      <td>DL</td>\n",
              "      <td>N964DN</td>\n",
              "      <td>1476</td>\n",
              "      <td>11433</td>\n",
              "      <td>DTW</td>\n",
              "      <td>...</td>\n",
              "      <td>1435</td>\n",
              "      <td>1439.0</td>\n",
              "      <td>4.0</td>\n",
              "      <td>0.0</td>\n",
              "      <td>0.0</td>\n",
              "      <td>0.0</td>\n",
              "      <td>110.0</td>\n",
              "      <td>115.0</td>\n",
              "      <td>528.0</td>\n",
              "      <td>NaN</td>\n",
              "    </tr>\n",
              "    <tr>\n",
              "      <th>2</th>\n",
              "      <td>2016</td>\n",
              "      <td>1</td>\n",
              "      <td>1</td>\n",
              "      <td>1</td>\n",
              "      <td>5</td>\n",
              "      <td>DL</td>\n",
              "      <td>N813DN</td>\n",
              "      <td>1597</td>\n",
              "      <td>10397</td>\n",
              "      <td>ATL</td>\n",
              "      <td>...</td>\n",
              "      <td>1215</td>\n",
              "      <td>1142.0</td>\n",
              "      <td>-33.0</td>\n",
              "      <td>0.0</td>\n",
              "      <td>0.0</td>\n",
              "      <td>0.0</td>\n",
              "      <td>335.0</td>\n",
              "      <td>300.0</td>\n",
              "      <td>2182.0</td>\n",
              "      <td>NaN</td>\n",
              "    </tr>\n",
              "    <tr>\n",
              "      <th>3</th>\n",
              "      <td>2016</td>\n",
              "      <td>1</td>\n",
              "      <td>1</td>\n",
              "      <td>1</td>\n",
              "      <td>5</td>\n",
              "      <td>DL</td>\n",
              "      <td>N587NW</td>\n",
              "      <td>1768</td>\n",
              "      <td>14747</td>\n",
              "      <td>SEA</td>\n",
              "      <td>...</td>\n",
              "      <td>1335</td>\n",
              "      <td>1345.0</td>\n",
              "      <td>10.0</td>\n",
              "      <td>0.0</td>\n",
              "      <td>0.0</td>\n",
              "      <td>0.0</td>\n",
              "      <td>196.0</td>\n",
              "      <td>205.0</td>\n",
              "      <td>1399.0</td>\n",
              "      <td>NaN</td>\n",
              "    </tr>\n",
              "    <tr>\n",
              "      <th>4</th>\n",
              "      <td>2016</td>\n",
              "      <td>1</td>\n",
              "      <td>1</td>\n",
              "      <td>1</td>\n",
              "      <td>5</td>\n",
              "      <td>DL</td>\n",
              "      <td>N836DN</td>\n",
              "      <td>1823</td>\n",
              "      <td>14747</td>\n",
              "      <td>SEA</td>\n",
              "      <td>...</td>\n",
              "      <td>607</td>\n",
              "      <td>615.0</td>\n",
              "      <td>8.0</td>\n",
              "      <td>0.0</td>\n",
              "      <td>0.0</td>\n",
              "      <td>0.0</td>\n",
              "      <td>247.0</td>\n",
              "      <td>259.0</td>\n",
              "      <td>1927.0</td>\n",
              "      <td>NaN</td>\n",
              "    </tr>\n",
              "  </tbody>\n",
              "</table>\n",
              "<p>5 rows × 26 columns</p>\n",
              "</div>\n",
              "      <button class=\"colab-df-convert\" onclick=\"convertToInteractive('df-8d4910b3-5fa5-4ef7-a180-a2848b131ca1')\"\n",
              "              title=\"Convert this dataframe to an interactive table.\"\n",
              "              style=\"display:none;\">\n",
              "        \n",
              "  <svg xmlns=\"http://www.w3.org/2000/svg\" height=\"24px\"viewBox=\"0 0 24 24\"\n",
              "       width=\"24px\">\n",
              "    <path d=\"M0 0h24v24H0V0z\" fill=\"none\"/>\n",
              "    <path d=\"M18.56 5.44l.94 2.06.94-2.06 2.06-.94-2.06-.94-.94-2.06-.94 2.06-2.06.94zm-11 1L8.5 8.5l.94-2.06 2.06-.94-2.06-.94L8.5 2.5l-.94 2.06-2.06.94zm10 10l.94 2.06.94-2.06 2.06-.94-2.06-.94-.94-2.06-.94 2.06-2.06.94z\"/><path d=\"M17.41 7.96l-1.37-1.37c-.4-.4-.92-.59-1.43-.59-.52 0-1.04.2-1.43.59L10.3 9.45l-7.72 7.72c-.78.78-.78 2.05 0 2.83L4 21.41c.39.39.9.59 1.41.59.51 0 1.02-.2 1.41-.59l7.78-7.78 2.81-2.81c.8-.78.8-2.07 0-2.86zM5.41 20L4 18.59l7.72-7.72 1.47 1.35L5.41 20z\"/>\n",
              "  </svg>\n",
              "      </button>\n",
              "      \n",
              "  <style>\n",
              "    .colab-df-container {\n",
              "      display:flex;\n",
              "      flex-wrap:wrap;\n",
              "      gap: 12px;\n",
              "    }\n",
              "\n",
              "    .colab-df-convert {\n",
              "      background-color: #E8F0FE;\n",
              "      border: none;\n",
              "      border-radius: 50%;\n",
              "      cursor: pointer;\n",
              "      display: none;\n",
              "      fill: #1967D2;\n",
              "      height: 32px;\n",
              "      padding: 0 0 0 0;\n",
              "      width: 32px;\n",
              "    }\n",
              "\n",
              "    .colab-df-convert:hover {\n",
              "      background-color: #E2EBFA;\n",
              "      box-shadow: 0px 1px 2px rgba(60, 64, 67, 0.3), 0px 1px 3px 1px rgba(60, 64, 67, 0.15);\n",
              "      fill: #174EA6;\n",
              "    }\n",
              "\n",
              "    [theme=dark] .colab-df-convert {\n",
              "      background-color: #3B4455;\n",
              "      fill: #D2E3FC;\n",
              "    }\n",
              "\n",
              "    [theme=dark] .colab-df-convert:hover {\n",
              "      background-color: #434B5C;\n",
              "      box-shadow: 0px 1px 3px 1px rgba(0, 0, 0, 0.15);\n",
              "      filter: drop-shadow(0px 1px 2px rgba(0, 0, 0, 0.3));\n",
              "      fill: #FFFFFF;\n",
              "    }\n",
              "  </style>\n",
              "\n",
              "      <script>\n",
              "        const buttonEl =\n",
              "          document.querySelector('#df-8d4910b3-5fa5-4ef7-a180-a2848b131ca1 button.colab-df-convert');\n",
              "        buttonEl.style.display =\n",
              "          google.colab.kernel.accessAllowed ? 'block' : 'none';\n",
              "\n",
              "        async function convertToInteractive(key) {\n",
              "          const element = document.querySelector('#df-8d4910b3-5fa5-4ef7-a180-a2848b131ca1');\n",
              "          const dataTable =\n",
              "            await google.colab.kernel.invokeFunction('convertToInteractive',\n",
              "                                                     [key], {});\n",
              "          if (!dataTable) return;\n",
              "\n",
              "          const docLinkHtml = 'Like what you see? Visit the ' +\n",
              "            '<a target=\"_blank\" href=https://colab.research.google.com/notebooks/data_table.ipynb>data table notebook</a>'\n",
              "            + ' to learn more about interactive tables.';\n",
              "          element.innerHTML = '';\n",
              "          dataTable['output_type'] = 'display_data';\n",
              "          await google.colab.output.renderOutput(dataTable, element);\n",
              "          const docLink = document.createElement('div');\n",
              "          docLink.innerHTML = docLinkHtml;\n",
              "          element.appendChild(docLink);\n",
              "        }\n",
              "      </script>\n",
              "    </div>\n",
              "  </div>\n",
              "  "
            ]
          },
          "metadata": {},
          "execution_count": 19
        }
      ]
    },
    {
      "cell_type": "markdown",
      "source": [
        "**Handling missing values**"
      ],
      "metadata": {
        "id": "hIeALPpFQWKm"
      }
    },
    {
      "cell_type": "code",
      "source": [
        "dataset.info()"
      ],
      "metadata": {
        "colab": {
          "base_uri": "https://localhost:8080/"
        },
        "id": "O5O3gaf2Qf_b",
        "outputId": "8e38b696-472e-40aa-f0f1-765d4ae82b80"
      },
      "execution_count": null,
      "outputs": [
        {
          "output_type": "stream",
          "name": "stdout",
          "text": [
            "<class 'pandas.core.frame.DataFrame'>\n",
            "RangeIndex: 11231 entries, 0 to 11230\n",
            "Data columns (total 26 columns):\n",
            " #   Column               Non-Null Count  Dtype  \n",
            "---  ------               --------------  -----  \n",
            " 0   YEAR                 11231 non-null  int64  \n",
            " 1   QUARTER              11231 non-null  int64  \n",
            " 2   MONTH                11231 non-null  int64  \n",
            " 3   DAY_OF_MONTH         11231 non-null  int64  \n",
            " 4   DAY_OF_WEEK          11231 non-null  int64  \n",
            " 5   UNIQUE_CARRIER       11231 non-null  object \n",
            " 6   TAIL_NUM             11231 non-null  object \n",
            " 7   FL_NUM               11231 non-null  int64  \n",
            " 8   ORIGIN_AIRPORT_ID    11231 non-null  int64  \n",
            " 9   ORIGIN               11231 non-null  object \n",
            " 10  DEST_AIRPORT_ID      11231 non-null  int64  \n",
            " 11  DEST                 11231 non-null  object \n",
            " 12  CRS_DEP_TIME         11231 non-null  int64  \n",
            " 13  DEP_TIME             11124 non-null  float64\n",
            " 14  DEP_DELAY            11124 non-null  float64\n",
            " 15  DEP_DEL15            11124 non-null  float64\n",
            " 16  CRS_ARR_TIME         11231 non-null  int64  \n",
            " 17  ARR_TIME             11116 non-null  float64\n",
            " 18  ARR_DELAY            11043 non-null  float64\n",
            " 19  ARR_DEL15            11043 non-null  float64\n",
            " 20  CANCELLED            11231 non-null  float64\n",
            " 21  DIVERTED             11231 non-null  float64\n",
            " 22  CRS_ELAPSED_TIME     11231 non-null  float64\n",
            " 23  ACTUAL_ELAPSED_TIME  11043 non-null  float64\n",
            " 24  DISTANCE             11231 non-null  float64\n",
            " 25  Unnamed: 25          0 non-null      float64\n",
            "dtypes: float64(12), int64(10), object(4)\n",
            "memory usage: 2.2+ MB\n"
          ]
        }
      ]
    },
    {
      "cell_type": "code",
      "source": [
        "dataset = datset.drop('unnamed: 25', axis=1)\n",
        "dataset.isnull().sum()\n",
        "#filter the dataset to climinate columns that aren't relevant to a predictive model\n",
        "dataset=dataset[[\"FL_NUM\",\"MONTH\",\"DAY_OF_MONTH\",\"DAY_OF_WEEK\",\"ORIGIN\",\"DEST\",\"CRS_ARR_TIME\",\"DEP_DEL15\",\"ARR_DEL15\"]]\n",
        "dataset.isnull().sum()\n",
        "dataset[dataset.isnull().any(axis=1)].head(10)\n",
        "dataset[\"DEP_DEL15\"].mode()\n",
        "#replace the missing values with is.\n",
        "dataset=dataset.fillna({'ARR_DEL15'=1})\n",
        "dataset=dataset.fillna({'DEP_DEL15'=0})"
      ],
      "metadata": {
        "id": "mjnIaoMSoGGw"
      },
      "execution_count": null,
      "outputs": []
    },
    {
      "cell_type": "markdown",
      "source": [
        "**Handling categorical values**"
      ],
      "metadata": {
        "id": "S9NCVIrprMpj"
      }
    },
    {
      "cell_type": "code",
      "source": [
        "import math\n",
        "for index, row in dataset.iterrows():\n",
        "  dataset.loc[index, 'CRS_ARR_TIME']=math.floor(row['CRS_ARR_TIME']/100)\n",
        "  dataset.head()\n",
        "from sklearn.preprocessing import LabelEncoder\n",
        "le=LabelEncoder()\n",
        "dataset['DEST']=le.fit_transform(dataset['DEST'])\n",
        "dataset['ORIGIN']=le.fit_transform(dataset['ORIGIN'])\n",
        "dataset.head(5)\n",
        "dataset['ORIGIN'].unique()\n",
        "dataset=pd.get_dummies(dataset,columns=['ORIGIN','DEST'])\n",
        "dataset.head()\n",
        "x=dataset.iloc[:, 0:8].values\n",
        "y=dataset.iloc[:, 8:9].values\n",
        "from sklearn.preprocessing import OneHotEncoder\n",
        "oh=OneHotEncoder()\n",
        "z=oh.fit_transform(x[:,4:5]).toarray()\n",
        "t=oh.fit_transform(x[:,5:6]).toarray()\n",
        "#x=np.delete(x,[4,7],axis=1)\n",
        "x=np.delete(x,[4,5],axis=1)"
      ],
      "metadata": {
        "id": "eG0xgTMxrTGV"
      },
      "execution_count": null,
      "outputs": []
    },
    {
      "cell_type": "markdown",
      "source": [
        "**Exploratory data analysis**"
      ],
      "metadata": {
        "id": "O5QF7gPkwPzR"
      }
    },
    {
      "cell_type": "code",
      "source": [
        "flight_data.describe()"
      ],
      "metadata": {
        "id": "HGce3pfAwfD8"
      },
      "execution_count": null,
      "outputs": []
    },
    {
      "cell_type": "markdown",
      "source": [
        "**univariate analysis**"
      ],
      "metadata": {
        "id": "wUD0mJJSwtLP"
      }
    },
    {
      "cell_type": "code",
      "source": [
        "sns.displot(flight_data.MONTH)"
      ],
      "metadata": {
        "id": "1QZubKPPw1iD"
      },
      "execution_count": null,
      "outputs": []
    },
    {
      "cell_type": "markdown",
      "source": [
        "**Bivariate analysis**"
      ],
      "metadata": {
        "id": "IDJoZ9sixAlg"
      }
    },
    {
      "cell_type": "code",
      "source": [
        "sns.scatterplot(x='ARR_DELAY',y='ARR_DEL15', data=flight_data)\n",
        "sns.catplot(x=\"ARR_DEL\",y=\"ARR_DELAY\",kind='bar',data=flight_data)"
      ],
      "metadata": {
        "id": "uZDe4NP0xMG0"
      },
      "execution_count": null,
      "outputs": []
    },
    {
      "cell_type": "markdown",
      "source": [
        "**Multivariate analysis**"
      ],
      "metadata": {
        "id": "efJcvDyyyE99"
      }
    },
    {
      "cell_type": "code",
      "source": [
        "sns.heatmap(dataset.corr())"
      ],
      "metadata": {
        "id": "w2W1z_19yOjQ"
      },
      "execution_count": null,
      "outputs": []
    },
    {
      "cell_type": "markdown",
      "source": [
        "**Splitting data into dependent and independent variables**"
      ],
      "metadata": {
        "id": "RQRK9NuMyVSq"
      }
    },
    {
      "cell_type": "code",
      "source": [
        "dataset=pd.get_dummies(dataset, columns=['ORIGIN','DEST'])\n",
        "dataset.head()\n",
        "x=dataset.iloc[:, 0:8].values\n",
        "y=dataset.iloc[:, 8:9].values"
      ],
      "metadata": {
        "id": "iFKxeKOJyj3l"
      },
      "execution_count": null,
      "outputs": []
    },
    {
      "cell_type": "markdown",
      "source": [
        "**Splitting data into train and test**"
      ],
      "metadata": {
        "id": "ult5k0IUzC8S"
      }
    },
    {
      "cell_type": "code",
      "source": [
        "from sklearn.model_selection import train_test_split\n",
        "x_train,x_test,y_test=train_test_split(x,y,test_size=0.2,random_state=0)\n",
        "from sklearn.model_selection import train_test_split\n",
        "train_x, test_x, train_y, test_y=train_test_split(dataset.drop('ARR_DEL15',axis=1), df['ARR_DEL15'], test_size=0.2, random_state=0)\n",
        "x_test.shape\n",
        "x_train.shape\n",
        "y_test.shape\n",
        "y_train.shape"
      ],
      "metadata": {
        "id": "BzNiIJU7zH3c"
      },
      "execution_count": null,
      "outputs": []
    },
    {
      "cell_type": "markdown",
      "source": [
        "**Scaling the data**"
      ],
      "metadata": {
        "id": "o8ZL9Qiu1ihg"
      }
    },
    {
      "cell_type": "code",
      "source": [
        "from sklearn.preprocessing import StandardScaler\n",
        "sc=StandardScaler()\n",
        "x_train=sc.fit_transform(x_train)\n",
        "x_test=sc.transform(x_test)"
      ],
      "metadata": {
        "id": "WPBWs5av10Br"
      },
      "execution_count": null,
      "outputs": []
    },
    {
      "cell_type": "markdown",
      "source": [
        "**Decision tree model**"
      ],
      "metadata": {
        "id": "oYklLc2e2joi"
      }
    },
    {
      "cell_type": "code",
      "source": [
        "from sklearn.tree import DecisionTreeClassifier\n",
        "classifier=DecisionTreeClassifier(random_state=0)\n",
        "classifier.fit(x_train,y_train)\n",
        "decisiontree=classifier.predict(x_test)\n",
        "decisiontree\n",
        "from sklearn.metrics import accuracy_score\n",
        "desacc=accuracy_score(y_test,decisiontree)"
      ],
      "metadata": {
        "id": "jYfMQqh32qSo"
      },
      "execution_count": null,
      "outputs": []
    },
    {
      "cell_type": "markdown",
      "source": [
        "**Random forest model**"
      ],
      "metadata": {
        "id": "-kUKdofZ3ncT"
      }
    },
    {
      "cell_type": "code",
      "source": [
        "from sklearn.ensemble import RandomForestClassifier\n",
        "rfc=RandomForestClassifier(n_estimators=10,criterion='entropy')\n",
        "rfc.fit(x_train,y_train)\n",
        "y_predict=rfc.predict(x_test)"
      ],
      "metadata": {
        "id": "ywQZkznI34tr"
      },
      "execution_count": null,
      "outputs": []
    },
    {
      "cell_type": "markdown",
      "source": [
        "**ANN model**"
      ],
      "metadata": {
        "id": "DF3AZupK4Z0-"
      }
    },
    {
      "cell_type": "code",
      "source": [
        "import tensorflow\n",
        "from tensrflow.keras.models import sequential\n",
        "from tensorflow.keras.layers import dense\n",
        "classification=sequential()\n",
        "classification.add(dense(30,activation='relu'))\n",
        "classification.add(dense(128,activation='relu'))\n",
        "classification.add(dense(64,activation='relu'))\n",
        "classification.add(dense(32,activation='relu'))\n",
        "classification.add(dense(1,activation='signoid'))\n",
        "classification.compile(optimize='adam',loss='binary_crossentropy',metrics=['accuracy'])\n",
        "classification.fit(x_train,y_train,batch_size=4,validation_split=0.2, epochs=100)\n",
        "y_pred=classifier.predict([[129,99,1,0,0,1,0,1,1,1,0,1,1,1,1,1]])\n",
        "print(y_pred)\n",
        "(y_pred)\n",
        "y_pred=rfc.predict([[129,99,1,0,0,1,0,1,1,1,0,1,1,1,1,1]])\n",
        "print(y_pred)\n",
        "(y_pred)\n",
        "classification.save('flight.h5')\n",
        "y_pred=classification.predict(x_test)\n",
        "y_pred\n",
        "y_pred=(y_pred>0.5)\n",
        "y_pred\n",
        "\n"
      ],
      "metadata": {
        "id": "tHerLKzF4fz9"
      },
      "execution_count": null,
      "outputs": []
    },
    {
      "cell_type": "code",
      "source": [
        "simple_value = np. array(simple_value)\n",
        "sample_value = sample_value.reshape(1,-1)\n",
        "sample_value = sc.transform(sample_value)\n",
        "return classifier.predict(simle_value)"
      ],
      "metadata": {
        "id": "IZn26d9t_2wK"
      },
      "execution_count": null,
      "outputs": []
    },
    {
      "cell_type": "code",
      "source": [
        " test=classificttion.predict([[1,1,121,000000,36.0,0,0,1,0,1,1,1,1,1,1,1,]])\n",
        "if test==1:\n",
        "   print('prediction: Chance of delay')\n",
        "   else:\n",
        "     print('prediction: No  chance of delay.')\n",
        "     \n"
      ],
      "metadata": {
        "id": "wpej9pih_5J2"
      },
      "execution_count": null,
      "outputs": []
    },
    {
      "cell_type": "markdown",
      "source": [
        "5. performance teting & Hyperparameterr tuning\n"
      ],
      "metadata": {
        "id": "pNzEPdpMA9yQ"
      }
    },
    {
      "cell_type": "code",
      "source": [
        "from sklearn import model_selection\n",
        "from sklearn.neural_network import MLPclassifier"
      ],
      "metadata": {
        "id": "TV8kiBjbBF9c"
      },
      "execution_count": null,
      "outputs": []
    },
    {
      "cell_type": "code",
      "source": [
        "dfs=[]\n",
        "model=[\n",
        "    ('RF',RandomForestClassfier()),\n",
        "    ('DecisionTree',DecsionTreeClassifier()),\n",
        "    ('ANN,MLPClassifier())\n",
        "\n",
        "]\n",
        "results=[]\n",
        "    names=[]\n",
        "     scoring=['accuracy','precision_weighted','recall_weighted','f1_weighted','roc_auc']\n",
        "     target_names=['no delay','delay']\n",
        "     for name,model in models:\n",
        "     kfold=model-selection.KFold(n_splits=5,shuffle=True,random-state=90210)\n",
        "     cv-results=model_selection.cross_validate(model,x_train,y_train,cv=kfold,scoring=scoring)\n",
        "     clf=model.fit(x_train,y_train)\n",
        "     y-pred=clf.predict(x_test)\n",
        "     print(name)\n",
        "     print(classification_report(y_test,y_pred,target_names=target_names))\n",
        "     results.append(name)\n",
        "     this_df=pd.DataFrame(cv_results)\n",
        "     this_df['model']=name\n",
        "     dfs.append(this_df)\n",
        "final=pd.concat(dfs,ingnore_index=True)\n",
        "return final\n",
        "    \n"
      ],
      "metadata": {
        "id": "u504l6KGuWhs"
      },
      "execution_count": null,
      "outputs": []
    },
    {
      "cell_type": "code",
      "source": [
        "# RandomForest Accuracy\n",
        "print(‘Training accuracy: ‘,accuracy_score(y_train, y_redict_train))\n",
        "print (‘Testing accuracy: ‘,accuracy_score(y_test, y_predict))\n",
        "# Making the confusion matrix\n",
        "From sklearn.metrics import confusion_matrix\n",
        "cm=confusion_matrix(y_test, y_predict)\n",
        "cm\n"
      ],
      "metadata": {
        "id": "EjB7Cs9a1LIY"
      },
      "execution_count": null,
      "outputs": []
    },
    {
      "cell_type": "code",
      "source": [],
      "metadata": {
        "id": "tJrbPoCk1VZW"
      },
      "execution_count": null,
      "outputs": []
    },
    {
      "cell_type": "code",
      "source": [
        "from sklearn.metrics import acuracy_score\n",
        "desacc = accuracy_score(y_tet, decisintree)\n",
        "                        "
      ],
      "metadata": {
        "id": "Q8BfbKokBP0n"
      },
      "execution_count": null,
      "outputs": []
    },
    {
      "cell_type": "code",
      "source": [
        "desacc"
      ],
      "metadata": {
        "id": "vrQACeysBdgg"
      },
      "execution_count": null,
      "outputs": []
    },
    {
      "cell_type": "code",
      "source": [
        "from sklearn.metrics import confusion_matri\n",
        "cm = confusion_matirx(y_test, deisionree)\n"
      ],
      "metadata": {
        "id": "nZJI1nUYBg7c"
      },
      "execution_count": null,
      "outputs": []
    },
    {
      "cell_type": "code",
      "source": [
        "cm"
      ],
      "metadata": {
        "id": "S0X4ExO6B70Q"
      },
      "execution_count": null,
      "outputs": []
    },
    {
      "cell_type": "code",
      "source": [
        "\n",
        "# Calculate the accuracy of ANN\n",
        "from sklearn.metrics import accuracy_score, classification_report\n",
        "score=accuracy_score(y_pred, y_test)\n",
        "print(‘The accuracy for ANN model is:{}%’.format(score*100))\n",
        "# Making the confusion matrix\n",
        "from sklearn.metrics import confusion_matrix\n",
        "cm=confusion_matrix(y_test, y_predd)\n",
        "cm\n"
      ],
      "metadata": {
        "id": "e6ydEujc1eId"
      },
      "execution_count": null,
      "outputs": []
    },
    {
      "cell_type": "markdown",
      "source": [
        "comparing model accuracy before and after applying hyperparameter tuning"
      ],
      "metadata": {
        "id": "VSceX9G71x8P"
      }
    },
    {
      "cell_type": "code",
      "source": [
        "# giving some parameters that can be used in randized search cv\n",
        "Parameters={\n",
        "                         ‘n_estimators’:[1,20,30,55,8,74,90,120,115],\n",
        "                         ‘criterion’:[‘gini,’entropy’],\n",
        "                          ‘max_features’:[“auto”,”sqrt”,”log2”],\n",
        "           ‘max_depth’:[2,5,8,10], ‘verbose’: [1,2,3,4,6,8,9,10]\n",
        "}\n",
        "# performing the randomized cv\n",
        "RCV= RandomizedSearchCV(estimator=rf, param_distributions=parameters, cv=10, n_iter=4)\n",
        "RCV.fit(x_train, y_train)\n",
        "# getting the best parameters from the giving list and best score from them\n",
        "bt_params=RCV.best_params_\n",
        "bt_score=RCV.best_score_\n",
        "bt_params\n",
        "bt_score\n",
        "model=RandomForestClassifier(verbose=10,n_estimators=120,max_features=’log2’,max_depth=10,criterion=’entropy’)\n",
        "RCV.fit(x_train, y_train)\n",
        "y_predict_rf=RCV.predict(x_test)\n",
        "RFC=accuracy_score(y_test,y_predict_rf)\n",
        "RFC\n"
      ],
      "metadata": {
        "id": "upFNJfG52C0U"
      },
      "execution_count": null,
      "outputs": []
    },
    {
      "cell_type": "markdown",
      "source": [
        "model deployment"
      ],
      "metadata": {
        "id": "pt4OR77Z2MwG"
      }
    },
    {
      "cell_type": "code",
      "source": [
        "import pickle\n",
        "pickle.dump(RCV,open('flight.pkl','wb'))\n"
      ],
      "metadata": {
        "id": "lf0RgMgx2RRF"
      },
      "execution_count": null,
      "outputs": []
    }
  ]
}